{
 "cells": [
  {
   "cell_type": "code",
   "execution_count": 2,
   "id": "a797776f-c5dd-463e-976c-1dd69cac6b6c",
   "metadata": {},
   "outputs": [
    {
     "data": {
      "text/html": [
       "<div>\n",
       "<style scoped>\n",
       "    .dataframe tbody tr th:only-of-type {\n",
       "        vertical-align: middle;\n",
       "    }\n",
       "\n",
       "    .dataframe tbody tr th {\n",
       "        vertical-align: top;\n",
       "    }\n",
       "\n",
       "    .dataframe thead th {\n",
       "        text-align: right;\n",
       "    }\n",
       "</style>\n",
       "<table border=\"1\" class=\"dataframe\">\n",
       "  <thead>\n",
       "    <tr style=\"text-align: right;\">\n",
       "      <th></th>\n",
       "      <th>record_text</th>\n",
       "      <th>First round</th>\n",
       "      <th>Snoring_Y</th>\n",
       "      <th>Sleep_Apnea_Y</th>\n",
       "    </tr>\n",
       "  </thead>\n",
       "  <tbody>\n",
       "    <tr>\n",
       "      <th>0</th>\n",
       "      <td>still snores and had limb movements in sleep b...</td>\n",
       "      <td>Family: False Historical: False Hypothetical: ...</td>\n",
       "      <td>Family: False\\nHistorical: True\\nHypothetical:...</td>\n",
       "      <td>Family: False\\nHistorical: False\\nHypothetical...</td>\n",
       "    </tr>\n",
       "    <tr>\n",
       "      <th>1</th>\n",
       "      <td>the excessive sleepiness in daytime with no re...</td>\n",
       "      <td>Family: False Historical: False Hypothetical: ...</td>\n",
       "      <td>Family: False\\nHistorical: False\\nHypothetical...</td>\n",
       "      <td>Family: False\\nHistorical: False\\nHypothetical...</td>\n",
       "    </tr>\n",
       "    <tr>\n",
       "      <th>2</th>\n",
       "      <td>+snores     motor: off balance getting pt.</td>\n",
       "      <td>Family: False Historical: False Hypothetical: ...</td>\n",
       "      <td>Family: False\\nHistorical: False\\nHypothetical...</td>\n",
       "      <td>Family: False\\nHistorical: False\\nHypothetical...</td>\n",
       "    </tr>\n",
       "    <tr>\n",
       "      <th>3</th>\n",
       "      <td>heent: denies  headache dizziness lightheadedn...</td>\n",
       "      <td>Family: False Historical: True Hypothetical: F...</td>\n",
       "      <td>Family: False\\nHistorical: False\\nHypothetical...</td>\n",
       "      <td>Family: False\\nHistorical: False\\nHypothetical...</td>\n",
       "    </tr>\n",
       "    <tr>\n",
       "      <th>4</th>\n",
       "      <td>craniotomy  1960s    partial left temporal lob...</td>\n",
       "      <td>Family: False Historical: True Hypothetical: F...</td>\n",
       "      <td>Family: False\\nHistorical: True\\nHypothetical:...</td>\n",
       "      <td>Family: False\\nHistorical: True\\nHypothetical:...</td>\n",
       "    </tr>\n",
       "  </tbody>\n",
       "</table>\n",
       "</div>"
      ],
      "text/plain": [
       "                                         record_text  \\\n",
       "0  still snores and had limb movements in sleep b...   \n",
       "1  the excessive sleepiness in daytime with no re...   \n",
       "2         +snores     motor: off balance getting pt.   \n",
       "3  heent: denies  headache dizziness lightheadedn...   \n",
       "4  craniotomy  1960s    partial left temporal lob...   \n",
       "\n",
       "                                        First round   \\\n",
       "0  Family: False Historical: False Hypothetical: ...   \n",
       "1  Family: False Historical: False Hypothetical: ...   \n",
       "2  Family: False Historical: False Hypothetical: ...   \n",
       "3  Family: False Historical: True Hypothetical: F...   \n",
       "4  Family: False Historical: True Hypothetical: F...   \n",
       "\n",
       "                                           Snoring_Y  \\\n",
       "0  Family: False\\nHistorical: True\\nHypothetical:...   \n",
       "1  Family: False\\nHistorical: False\\nHypothetical...   \n",
       "2  Family: False\\nHistorical: False\\nHypothetical...   \n",
       "3  Family: False\\nHistorical: False\\nHypothetical...   \n",
       "4  Family: False\\nHistorical: True\\nHypothetical:...   \n",
       "\n",
       "                                       Sleep_Apnea_Y  \n",
       "0  Family: False\\nHistorical: False\\nHypothetical...  \n",
       "1  Family: False\\nHistorical: False\\nHypothetical...  \n",
       "2  Family: False\\nHistorical: False\\nHypothetical...  \n",
       "3  Family: False\\nHistorical: False\\nHypothetical...  \n",
       "4  Family: False\\nHistorical: True\\nHypothetical:...  "
      ]
     },
     "execution_count": 2,
     "metadata": {},
     "output_type": "execute_result"
    }
   ],
   "source": [
    "import pandas as pd\n",
    "\n",
    "\n",
    "file_name = \"/home/yuj49/ConText/ConText_LLM/sleep_200_Yuelyu/sleep_annotate.csv\"\n",
    "df = pd.read_csv(file_name)\n",
    "\n",
    "df.head()\n"
   ]
  },
  {
   "cell_type": "code",
   "execution_count": null,
   "id": "36e5efa0-c91b-4f2b-bbe3-053d41ed882e",
   "metadata": {},
   "outputs": [],
   "source": [
    "Snoring_Y = df.Snoring_Y.values.tolist()\n",
    "Sleep_Apnea_Y = df.Sleep_Apnea_Y.values.tolist()\n",
    "categot = [\"Historical\", \"Hypothetical\", \"Negated\", \"Possible\", ]\n",
    "for s, sa in zip(Snoring_Y, Sleep_Apnea_Y):\n",
    "    "
   ]
  }
 ],
 "metadata": {
  "kernelspec": {
   "display_name": "Python 3 (ipykernel)",
   "language": "python",
   "name": "python3"
  },
  "language_info": {
   "codemirror_mode": {
    "name": "ipython",
    "version": 3
   },
   "file_extension": ".py",
   "mimetype": "text/x-python",
   "name": "python",
   "nbconvert_exporter": "python",
   "pygments_lexer": "ipython3",
   "version": "3.10.13"
  }
 },
 "nbformat": 4,
 "nbformat_minor": 5
}
